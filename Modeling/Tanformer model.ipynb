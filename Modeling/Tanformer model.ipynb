{
 "cells": [
  {
   "cell_type": "markdown",
   "source": [
    "# Timeseries classification with a Transformer model\n",
    "\n",
    "**Author:** [Theodoros Ntakouris](https://github.com/ntakouris)<br>\n",
    "**Date created:** 2021/06/25<br>\n",
    "**Last modified:** 2021/08/05<br>\n",
    "**Description:** This notebook demonstrates how to do timeseries classification using a Transformer model."
   ],
   "metadata": {
    "colab_type": "text"
   }
  },
  {
   "cell_type": "markdown",
   "source": [
    "## Introduction\n",
    "\n",
    "This is the Transformer architecture from\n",
    "[Attention Is All You Need](https://arxiv.org/abs/1706.03762),\n",
    "applied to timeseries instead of natural language.\n",
    "\n",
    "This example requires TensorFlow 2.4 or higher.\n",
    "\n",
    "## Load the dataset\n",
    "\n",
    "We are going to use the same dataset and preprocessing as the\n",
    "[TimeSeries Classification from Scratch](https://keras.io/examples/timeseries/timeseries_classification_from_scratch)\n",
    "example."
   ],
   "metadata": {
    "colab_type": "text"
   }
  },
  {
   "cell_type": "code",
   "execution_count": 1,
   "source": [
    "from tensorflow.keras.models import save_model, load_model\r\n",
    "from tensorflow.keras.utils import plot_model\r\n",
    "from tensorflow.keras import layers\r\n",
    "import matplotlib.pyplot as plt\r\n",
    "from tensorflow import keras\r\n",
    "import pandas as pd\r\n",
    "import numpy as np"
   ],
   "outputs": [],
   "metadata": {}
  },
  {
   "cell_type": "code",
   "execution_count": 2,
   "source": [
    "def readucr(filename):\r\n",
    "    data = np.loadtxt(filename, delimiter=\",\")\r\n",
    "    y = data[:, -1]\r\n",
    "    x = data[:, 0:-1]\r\n",
    "    return x, y.astype(int)\r\n",
    "\r\n",
    "x_train, y_train = readucr(\"data/cleaned/datos_train.csv\")\r\n",
    "x_test, y_test = readucr(\"data/cleaned/datos_test.csv\")\r\n",
    "\r\n",
    "x_train = x_train.reshape((x_train.shape[0], x_train.shape[1], 1))\r\n",
    "x_test = x_test.reshape((x_test.shape[0], x_test.shape[1], 1))\r\n",
    "\r\n",
    "n_classes = len(np.unique(y_train))\r\n",
    "\r\n",
    "idx = np.random.permutation(len(x_train))\r\n",
    "x_train = x_train[idx]\r\n",
    "y_train = y_train[idx]\r\n",
    "\r\n",
    "y_train[y_train == -1] = 0\r\n",
    "y_test[y_test == -1] = 0"
   ],
   "outputs": [],
   "metadata": {
    "colab_type": "code"
   }
  },
  {
   "cell_type": "markdown",
   "source": [
    "## Build the model\n",
    "\n",
    "Our model processes a tensor of shape `(batch size, sequence length, features)`,\n",
    "where `sequence length` is the number of time steps and `features` is each input\n",
    "timeseries.\n",
    "\n",
    "You can replace your classification RNN layers with this one: the\n",
    "inputs are fully compatible!"
   ],
   "metadata": {
    "colab_type": "text"
   }
  },
  {
   "cell_type": "markdown",
   "source": [
    "We include residual connections, layer normalization, and dropout.\n",
    "The resulting layer can be stacked multiple times.\n",
    "\n",
    "The projection layers are implemented through `keras.layers.Conv1D`."
   ],
   "metadata": {
    "colab_type": "text"
   }
  },
  {
   "cell_type": "code",
   "execution_count": 3,
   "source": [
    "\r\n",
    "def transformer_encoder(inputs, head_size, num_heads, ff_dim, dropout=0):\r\n",
    "    # Normalization and Attention\r\n",
    "    x = layers.LayerNormalization(epsilon=1e-6)(inputs)\r\n",
    "    x = layers.MultiHeadAttention(\r\n",
    "        key_dim=head_size, num_heads=num_heads, dropout=dropout\r\n",
    "    )(x, x)\r\n",
    "    x = layers.Dropout(dropout)(x)\r\n",
    "    res = x + inputs\r\n",
    "\r\n",
    "    # Feed Forward Part\r\n",
    "    x = layers.LayerNormalization(epsilon=1e-6)(res)\r\n",
    "    x = layers.Conv1D(filters=ff_dim, kernel_size=1, activation=\"relu\")(x)\r\n",
    "    x = layers.Dropout(dropout)(x)\r\n",
    "    x = layers.Conv1D(filters=inputs.shape[-1], kernel_size=1)(x)\r\n",
    "    return x + res"
   ],
   "outputs": [],
   "metadata": {
    "colab_type": "code"
   }
  },
  {
   "cell_type": "markdown",
   "source": [
    "The main part of our model is now complete. We can stack multiple of those\n",
    "`transformer_encoder` blocks and we can also proceed to add the final\n",
    "Multi-Layer Perceptron classification head. Apart from a stack of `Dense`\n",
    "layers, we need to reduce the output tensor of the `TransformerEncoder` part of\n",
    "our model down to a vector of features for each data point in the current\n",
    "batch. A common way to achieve this is to use a pooling layer. For\n",
    "this example, a `GlobalAveragePooling1D` layer is sufficient."
   ],
   "metadata": {
    "colab_type": "text"
   }
  },
  {
   "cell_type": "code",
   "execution_count": 4,
   "source": [
    "\r\n",
    "def build_model(\r\n",
    "    input_shape,\r\n",
    "    head_size,\r\n",
    "    num_heads,\r\n",
    "    ff_dim,\r\n",
    "    num_transformer_blocks,\r\n",
    "    mlp_units,\r\n",
    "    dropout=0,\r\n",
    "    mlp_dropout=0,\r\n",
    "):\r\n",
    "    inputs = keras.Input(shape=input_shape)\r\n",
    "    x = inputs\r\n",
    "    for _ in range(num_transformer_blocks):\r\n",
    "        x = transformer_encoder(x, head_size, num_heads, ff_dim, dropout)\r\n",
    "\r\n",
    "    x = layers.GlobalAveragePooling1D(data_format=\"channels_first\")(x)\r\n",
    "    for dim in mlp_units:\r\n",
    "        x = layers.Dense(dim, activation=\"relu\")(x)\r\n",
    "        x = layers.Dropout(mlp_dropout)(x)\r\n",
    "    outputs = layers.Dense(n_classes, activation=\"softmax\")(x)\r\n",
    "    return keras.Model(inputs, outputs)\r\n"
   ],
   "outputs": [],
   "metadata": {
    "colab_type": "code"
   }
  },
  {
   "cell_type": "markdown",
   "source": [
    "## Train and evaluate"
   ],
   "metadata": {
    "colab_type": "text"
   }
  },
  {
   "cell_type": "code",
   "execution_count": 15,
   "source": [
    "batch=64"
   ],
   "outputs": [],
   "metadata": {}
  },
  {
   "cell_type": "code",
   "execution_count": 16,
   "source": [
    "input_shape = x_train.shape[1:]\r\n",
    "\r\n",
    "model = build_model(\r\n",
    "    input_shape,\r\n",
    "    head_size=256,\r\n",
    "    num_heads=4,\r\n",
    "    ff_dim=4,\r\n",
    "    num_transformer_blocks=4,\r\n",
    "    mlp_units=[128],\r\n",
    "    mlp_dropout=0.3,\r\n",
    "    dropout=0.20,\r\n",
    ")\r\n",
    "\r\n",
    "model.compile(\r\n",
    "    loss=\"sparse_categorical_crossentropy\",\r\n",
    "    optimizer=keras.optimizers.Adam(learning_rate=1e-4),\r\n",
    "    metrics=[\"sparse_categorical_accuracy\"],\r\n",
    ")\r\n",
    "model.summary()\r\n",
    "\r\n",
    "callbacks = [keras.callbacks.EarlyStopping(patience=10, restore_best_weights=True)]\r\n",
    "\r\n",
    "history = model.fit(\r\n",
    "    x_train,\r\n",
    "    y_train,\r\n",
    "    validation_split=0.2,\r\n",
    "    epochs=15,\r\n",
    "    batch_size=batch,\r\n",
    "    callbacks=callbacks,\r\n",
    ")\r\n",
    "\r\n",
    "model.evaluate(x_test, y_test, verbose=1)"
   ],
   "outputs": [
    {
     "output_type": "stream",
     "name": "stdout",
     "text": [
      "Model: \"model_1\"\n",
      "__________________________________________________________________________________________________\n",
      "Layer (type)                    Output Shape         Param #     Connected to                     \n",
      "==================================================================================================\n",
      "input_2 (InputLayer)            [(None, 4, 1)]       0                                            \n",
      "__________________________________________________________________________________________________\n",
      "layer_normalization_16 (LayerNo (None, 4, 1)         2           input_2[0][0]                    \n",
      "__________________________________________________________________________________________________\n",
      "multi_head_attention_8 (MultiHe (None, 4, 1)         14337       layer_normalization_16[0][0]     \n",
      "                                                                 layer_normalization_16[0][0]     \n",
      "__________________________________________________________________________________________________\n",
      "dropout_21 (Dropout)            (None, 4, 1)         0           multi_head_attention_8[0][0]     \n",
      "__________________________________________________________________________________________________\n",
      "tf.__operators__.add_16 (TFOpLa (None, 4, 1)         0           dropout_21[0][0]                 \n",
      "                                                                 input_2[0][0]                    \n",
      "__________________________________________________________________________________________________\n",
      "layer_normalization_17 (LayerNo (None, 4, 1)         2           tf.__operators__.add_16[0][0]    \n",
      "__________________________________________________________________________________________________\n",
      "conv1d_16 (Conv1D)              (None, 4, 8)         16          layer_normalization_17[0][0]     \n",
      "__________________________________________________________________________________________________\n",
      "dropout_22 (Dropout)            (None, 4, 8)         0           conv1d_16[0][0]                  \n",
      "__________________________________________________________________________________________________\n",
      "conv1d_17 (Conv1D)              (None, 4, 1)         9           dropout_22[0][0]                 \n",
      "__________________________________________________________________________________________________\n",
      "tf.__operators__.add_17 (TFOpLa (None, 4, 1)         0           conv1d_17[0][0]                  \n",
      "                                                                 tf.__operators__.add_16[0][0]    \n",
      "__________________________________________________________________________________________________\n",
      "layer_normalization_18 (LayerNo (None, 4, 1)         2           tf.__operators__.add_17[0][0]    \n",
      "__________________________________________________________________________________________________\n",
      "multi_head_attention_9 (MultiHe (None, 4, 1)         14337       layer_normalization_18[0][0]     \n",
      "                                                                 layer_normalization_18[0][0]     \n",
      "__________________________________________________________________________________________________\n",
      "dropout_23 (Dropout)            (None, 4, 1)         0           multi_head_attention_9[0][0]     \n",
      "__________________________________________________________________________________________________\n",
      "tf.__operators__.add_18 (TFOpLa (None, 4, 1)         0           dropout_23[0][0]                 \n",
      "                                                                 tf.__operators__.add_17[0][0]    \n",
      "__________________________________________________________________________________________________\n",
      "layer_normalization_19 (LayerNo (None, 4, 1)         2           tf.__operators__.add_18[0][0]    \n",
      "__________________________________________________________________________________________________\n",
      "conv1d_18 (Conv1D)              (None, 4, 8)         16          layer_normalization_19[0][0]     \n",
      "__________________________________________________________________________________________________\n",
      "dropout_24 (Dropout)            (None, 4, 8)         0           conv1d_18[0][0]                  \n",
      "__________________________________________________________________________________________________\n",
      "conv1d_19 (Conv1D)              (None, 4, 1)         9           dropout_24[0][0]                 \n",
      "__________________________________________________________________________________________________\n",
      "tf.__operators__.add_19 (TFOpLa (None, 4, 1)         0           conv1d_19[0][0]                  \n",
      "                                                                 tf.__operators__.add_18[0][0]    \n",
      "__________________________________________________________________________________________________\n",
      "layer_normalization_20 (LayerNo (None, 4, 1)         2           tf.__operators__.add_19[0][0]    \n",
      "__________________________________________________________________________________________________\n",
      "multi_head_attention_10 (MultiH (None, 4, 1)         14337       layer_normalization_20[0][0]     \n",
      "                                                                 layer_normalization_20[0][0]     \n",
      "__________________________________________________________________________________________________\n",
      "dropout_25 (Dropout)            (None, 4, 1)         0           multi_head_attention_10[0][0]    \n",
      "__________________________________________________________________________________________________\n",
      "tf.__operators__.add_20 (TFOpLa (None, 4, 1)         0           dropout_25[0][0]                 \n",
      "                                                                 tf.__operators__.add_19[0][0]    \n",
      "__________________________________________________________________________________________________\n",
      "layer_normalization_21 (LayerNo (None, 4, 1)         2           tf.__operators__.add_20[0][0]    \n",
      "__________________________________________________________________________________________________\n",
      "conv1d_20 (Conv1D)              (None, 4, 8)         16          layer_normalization_21[0][0]     \n",
      "__________________________________________________________________________________________________\n",
      "dropout_26 (Dropout)            (None, 4, 8)         0           conv1d_20[0][0]                  \n",
      "__________________________________________________________________________________________________\n",
      "conv1d_21 (Conv1D)              (None, 4, 1)         9           dropout_26[0][0]                 \n",
      "__________________________________________________________________________________________________\n",
      "tf.__operators__.add_21 (TFOpLa (None, 4, 1)         0           conv1d_21[0][0]                  \n",
      "                                                                 tf.__operators__.add_20[0][0]    \n",
      "__________________________________________________________________________________________________\n",
      "layer_normalization_22 (LayerNo (None, 4, 1)         2           tf.__operators__.add_21[0][0]    \n",
      "__________________________________________________________________________________________________\n",
      "multi_head_attention_11 (MultiH (None, 4, 1)         14337       layer_normalization_22[0][0]     \n",
      "                                                                 layer_normalization_22[0][0]     \n",
      "__________________________________________________________________________________________________\n",
      "dropout_27 (Dropout)            (None, 4, 1)         0           multi_head_attention_11[0][0]    \n",
      "__________________________________________________________________________________________________\n",
      "tf.__operators__.add_22 (TFOpLa (None, 4, 1)         0           dropout_27[0][0]                 \n",
      "                                                                 tf.__operators__.add_21[0][0]    \n",
      "__________________________________________________________________________________________________\n",
      "layer_normalization_23 (LayerNo (None, 4, 1)         2           tf.__operators__.add_22[0][0]    \n",
      "__________________________________________________________________________________________________\n",
      "conv1d_22 (Conv1D)              (None, 4, 8)         16          layer_normalization_23[0][0]     \n",
      "__________________________________________________________________________________________________\n",
      "dropout_28 (Dropout)            (None, 4, 8)         0           conv1d_22[0][0]                  \n",
      "__________________________________________________________________________________________________\n",
      "conv1d_23 (Conv1D)              (None, 4, 1)         9           dropout_28[0][0]                 \n",
      "__________________________________________________________________________________________________\n",
      "tf.__operators__.add_23 (TFOpLa (None, 4, 1)         0           conv1d_23[0][0]                  \n",
      "                                                                 tf.__operators__.add_22[0][0]    \n",
      "__________________________________________________________________________________________________\n",
      "layer_normalization_24 (LayerNo (None, 4, 1)         2           tf.__operators__.add_23[0][0]    \n",
      "__________________________________________________________________________________________________\n",
      "multi_head_attention_12 (MultiH (None, 4, 1)         14337       layer_normalization_24[0][0]     \n",
      "                                                                 layer_normalization_24[0][0]     \n",
      "__________________________________________________________________________________________________\n",
      "dropout_29 (Dropout)            (None, 4, 1)         0           multi_head_attention_12[0][0]    \n",
      "__________________________________________________________________________________________________\n",
      "tf.__operators__.add_24 (TFOpLa (None, 4, 1)         0           dropout_29[0][0]                 \n",
      "                                                                 tf.__operators__.add_23[0][0]    \n",
      "__________________________________________________________________________________________________\n",
      "layer_normalization_25 (LayerNo (None, 4, 1)         2           tf.__operators__.add_24[0][0]    \n",
      "__________________________________________________________________________________________________\n",
      "conv1d_24 (Conv1D)              (None, 4, 8)         16          layer_normalization_25[0][0]     \n",
      "__________________________________________________________________________________________________\n",
      "dropout_30 (Dropout)            (None, 4, 8)         0           conv1d_24[0][0]                  \n",
      "__________________________________________________________________________________________________\n",
      "conv1d_25 (Conv1D)              (None, 4, 1)         9           dropout_30[0][0]                 \n",
      "__________________________________________________________________________________________________\n",
      "tf.__operators__.add_25 (TFOpLa (None, 4, 1)         0           conv1d_25[0][0]                  \n",
      "                                                                 tf.__operators__.add_24[0][0]    \n",
      "__________________________________________________________________________________________________\n",
      "layer_normalization_26 (LayerNo (None, 4, 1)         2           tf.__operators__.add_25[0][0]    \n",
      "__________________________________________________________________________________________________\n",
      "multi_head_attention_13 (MultiH (None, 4, 1)         14337       layer_normalization_26[0][0]     \n",
      "                                                                 layer_normalization_26[0][0]     \n",
      "__________________________________________________________________________________________________\n",
      "dropout_31 (Dropout)            (None, 4, 1)         0           multi_head_attention_13[0][0]    \n",
      "__________________________________________________________________________________________________\n",
      "tf.__operators__.add_26 (TFOpLa (None, 4, 1)         0           dropout_31[0][0]                 \n",
      "                                                                 tf.__operators__.add_25[0][0]    \n",
      "__________________________________________________________________________________________________\n",
      "layer_normalization_27 (LayerNo (None, 4, 1)         2           tf.__operators__.add_26[0][0]    \n",
      "__________________________________________________________________________________________________\n",
      "conv1d_26 (Conv1D)              (None, 4, 8)         16          layer_normalization_27[0][0]     \n",
      "__________________________________________________________________________________________________\n",
      "dropout_32 (Dropout)            (None, 4, 8)         0           conv1d_26[0][0]                  \n",
      "__________________________________________________________________________________________________\n",
      "conv1d_27 (Conv1D)              (None, 4, 1)         9           dropout_32[0][0]                 \n",
      "__________________________________________________________________________________________________\n",
      "tf.__operators__.add_27 (TFOpLa (None, 4, 1)         0           conv1d_27[0][0]                  \n",
      "                                                                 tf.__operators__.add_26[0][0]    \n",
      "__________________________________________________________________________________________________\n",
      "layer_normalization_28 (LayerNo (None, 4, 1)         2           tf.__operators__.add_27[0][0]    \n",
      "__________________________________________________________________________________________________\n",
      "multi_head_attention_14 (MultiH (None, 4, 1)         14337       layer_normalization_28[0][0]     \n",
      "                                                                 layer_normalization_28[0][0]     \n",
      "__________________________________________________________________________________________________\n",
      "dropout_33 (Dropout)            (None, 4, 1)         0           multi_head_attention_14[0][0]    \n",
      "__________________________________________________________________________________________________\n",
      "tf.__operators__.add_28 (TFOpLa (None, 4, 1)         0           dropout_33[0][0]                 \n",
      "                                                                 tf.__operators__.add_27[0][0]    \n",
      "__________________________________________________________________________________________________\n",
      "layer_normalization_29 (LayerNo (None, 4, 1)         2           tf.__operators__.add_28[0][0]    \n",
      "__________________________________________________________________________________________________\n",
      "conv1d_28 (Conv1D)              (None, 4, 8)         16          layer_normalization_29[0][0]     \n",
      "__________________________________________________________________________________________________\n",
      "dropout_34 (Dropout)            (None, 4, 8)         0           conv1d_28[0][0]                  \n",
      "__________________________________________________________________________________________________\n",
      "conv1d_29 (Conv1D)              (None, 4, 1)         9           dropout_34[0][0]                 \n",
      "__________________________________________________________________________________________________\n",
      "tf.__operators__.add_29 (TFOpLa (None, 4, 1)         0           conv1d_29[0][0]                  \n",
      "                                                                 tf.__operators__.add_28[0][0]    \n",
      "__________________________________________________________________________________________________\n",
      "layer_normalization_30 (LayerNo (None, 4, 1)         2           tf.__operators__.add_29[0][0]    \n",
      "__________________________________________________________________________________________________\n",
      "multi_head_attention_15 (MultiH (None, 4, 1)         14337       layer_normalization_30[0][0]     \n",
      "                                                                 layer_normalization_30[0][0]     \n",
      "__________________________________________________________________________________________________\n",
      "dropout_35 (Dropout)            (None, 4, 1)         0           multi_head_attention_15[0][0]    \n",
      "__________________________________________________________________________________________________\n",
      "tf.__operators__.add_30 (TFOpLa (None, 4, 1)         0           dropout_35[0][0]                 \n",
      "                                                                 tf.__operators__.add_29[0][0]    \n",
      "__________________________________________________________________________________________________\n",
      "layer_normalization_31 (LayerNo (None, 4, 1)         2           tf.__operators__.add_30[0][0]    \n",
      "__________________________________________________________________________________________________\n",
      "conv1d_30 (Conv1D)              (None, 4, 8)         16          layer_normalization_31[0][0]     \n",
      "__________________________________________________________________________________________________\n",
      "dropout_36 (Dropout)            (None, 4, 8)         0           conv1d_30[0][0]                  \n",
      "__________________________________________________________________________________________________\n",
      "conv1d_31 (Conv1D)              (None, 4, 1)         9           dropout_36[0][0]                 \n",
      "__________________________________________________________________________________________________\n",
      "tf.__operators__.add_31 (TFOpLa (None, 4, 1)         0           conv1d_31[0][0]                  \n",
      "                                                                 tf.__operators__.add_30[0][0]    \n",
      "__________________________________________________________________________________________________\n",
      "global_average_pooling1d_1 (Glo (None, 4)            0           tf.__operators__.add_31[0][0]    \n",
      "__________________________________________________________________________________________________\n",
      "dense_2 (Dense)                 (None, 128)          640         global_average_pooling1d_1[0][0] \n",
      "__________________________________________________________________________________________________\n",
      "dropout_37 (Dropout)            (None, 128)          0           dense_2[0][0]                    \n",
      "__________________________________________________________________________________________________\n",
      "dense_3 (Dense)                 (None, 2)            258         dropout_37[0][0]                 \n",
      "==================================================================================================\n",
      "Total params: 115,826\n",
      "Trainable params: 115,826\n",
      "Non-trainable params: 0\n",
      "__________________________________________________________________________________________________\n",
      "Epoch 1/15\n",
      "175/175 [==============================] - 37s 176ms/step - loss: 0.1986 - sparse_categorical_accuracy: 0.9634 - val_loss: 0.0216 - val_sparse_categorical_accuracy: 0.9920\n",
      "Epoch 2/15\n",
      "175/175 [==============================] - 31s 180ms/step - loss: 0.0211 - sparse_categorical_accuracy: 0.9942 - val_loss: 0.0189 - val_sparse_categorical_accuracy: 0.9927\n",
      "Epoch 3/15\n",
      "175/175 [==============================] - 32s 184ms/step - loss: 0.0188 - sparse_categorical_accuracy: 0.9943 - val_loss: 0.0160 - val_sparse_categorical_accuracy: 0.9938\n",
      "Epoch 4/15\n",
      "175/175 [==============================] - 32s 180ms/step - loss: 0.0154 - sparse_categorical_accuracy: 0.9953 - val_loss: 0.0144 - val_sparse_categorical_accuracy: 0.9938\n",
      "Epoch 5/15\n",
      "175/175 [==============================] - 31s 180ms/step - loss: 0.0137 - sparse_categorical_accuracy: 0.9955 - val_loss: 0.0134 - val_sparse_categorical_accuracy: 0.9941\n",
      "Epoch 6/15\n",
      "175/175 [==============================] - 31s 177ms/step - loss: 0.0124 - sparse_categorical_accuracy: 0.9957 - val_loss: 0.0118 - val_sparse_categorical_accuracy: 0.9952\n",
      "Epoch 7/15\n",
      "175/175 [==============================] - 31s 177ms/step - loss: 0.0111 - sparse_categorical_accuracy: 0.9964 - val_loss: 0.0122 - val_sparse_categorical_accuracy: 0.9943\n",
      "Epoch 8/15\n",
      "175/175 [==============================] - 31s 179ms/step - loss: 0.0120 - sparse_categorical_accuracy: 0.9961 - val_loss: 0.0112 - val_sparse_categorical_accuracy: 0.9950\n",
      "Epoch 9/15\n",
      "175/175 [==============================] - 31s 179ms/step - loss: 0.0110 - sparse_categorical_accuracy: 0.9959 - val_loss: 0.0112 - val_sparse_categorical_accuracy: 0.9950\n",
      "Epoch 10/15\n",
      "175/175 [==============================] - 31s 179ms/step - loss: 0.0107 - sparse_categorical_accuracy: 0.9967 - val_loss: 0.0099 - val_sparse_categorical_accuracy: 0.9957\n",
      "Epoch 11/15\n",
      "175/175 [==============================] - 32s 182ms/step - loss: 0.0093 - sparse_categorical_accuracy: 0.9970 - val_loss: 0.0114 - val_sparse_categorical_accuracy: 0.9945\n",
      "Epoch 12/15\n",
      "175/175 [==============================] - 32s 184ms/step - loss: 0.0105 - sparse_categorical_accuracy: 0.9961 - val_loss: 0.0099 - val_sparse_categorical_accuracy: 0.9959\n",
      "Epoch 13/15\n",
      "175/175 [==============================] - 35s 200ms/step - loss: 0.0106 - sparse_categorical_accuracy: 0.9964 - val_loss: 0.0100 - val_sparse_categorical_accuracy: 0.9959\n",
      "Epoch 14/15\n",
      "175/175 [==============================] - 34s 192ms/step - loss: 0.0087 - sparse_categorical_accuracy: 0.9969 - val_loss: 0.0107 - val_sparse_categorical_accuracy: 0.9954\n",
      "Epoch 15/15\n",
      "175/175 [==============================] - 35s 198ms/step - loss: 0.0099 - sparse_categorical_accuracy: 0.9967 - val_loss: 0.0096 - val_sparse_categorical_accuracy: 0.9959\n",
      "275/275 [==============================] - 8s 31ms/step - loss: 0.0053 - sparse_categorical_accuracy: 0.9978\n"
     ]
    },
    {
     "output_type": "execute_result",
     "data": {
      "text/plain": [
       "[0.005264840088784695, 0.9978369474411011]"
      ]
     },
     "metadata": {},
     "execution_count": 16
    }
   ],
   "metadata": {
    "colab_type": "code"
   }
  },
  {
   "cell_type": "code",
   "execution_count": 17,
   "source": [
    "\r\n",
    "# list all data in history\r\n",
    "print(history.history.keys())\r\n",
    "# summarize history for sparse_categorical_accuracy\r\n",
    "plt.plot(history.history['sparse_categorical_accuracy'])\r\n",
    "plt.plot(history.history['val_sparse_categorical_accuracy'])\r\n",
    "plt.title('Model accuracy (batch {0})'.format(batch))\r\n",
    "plt.ylabel('Accuracy')\r\n",
    "plt.xlabel('Epoch')\r\n",
    "plt.legend(['train', 'test'], loc='lower right')\r\n",
    "plt.show()\r\n",
    "# summarize history for loss\r\n",
    "plt.plot(history.history['loss'])\r\n",
    "plt.plot(history.history['val_loss'])\r\n",
    "plt.title('Model loss (batch {0})'.format(batch))\r\n",
    "plt.ylabel('Loss')\r\n",
    "plt.xlabel('Epoch')\r\n",
    "plt.legend(['train', 'test'], loc='upper right')\r\n",
    "plt.show()"
   ],
   "outputs": [
    {
     "output_type": "stream",
     "name": "stdout",
     "text": [
      "dict_keys(['loss', 'sparse_categorical_accuracy', 'val_loss', 'val_sparse_categorical_accuracy'])\n"
     ]
    },
    {
     "output_type": "display_data",
     "data": {
      "image/png": "[encoded data removed]",
      "text/plain": [
       "<Figure size 640x480 with 1 Axes>"
      ]
     },
     "metadata": {}
    },
    {
     "output_type": "display_data",
     "data": {
      "image/png": "[encoded data removed]",
      "text/plain": [
       "<Figure size 640x480 with 1 Axes>"
      ]
     },
     "metadata": {}
    }
   ],
   "metadata": {}
  },
  {
   "cell_type": "markdown",
   "source": [
    "## Conclusions\n",
    "\n",
    "In about 110-120 epochs (25s each on Colab), the model reaches a training\n",
    "accuracy of ~0.95, validation accuracy of ~84 and a testing\n",
    "accuracy of ~85, without hyperparameter tuning. And that is for a model\n",
    "with less than 100k parameters. Of course, parameter count and accuracy could be\n",
    "improved by a hyperparameter search and a more sophisticated learning rate\n",
    "schedule, or a different optimizer."
   ],
   "metadata": {
    "colab_type": "text"
   }
  },
  {
   "cell_type": "code",
   "execution_count": 20,
   "source": [
    "model.save('models/binary_class_model_{0}.h5'.format(batch))"
   ],
   "outputs": [
    {
     "output_type": "stream",
     "name": "stderr",
     "text": [
      "WARNING:absl:Found untraced functions such as query_layer_call_fn, query_layer_call_and_return_conditional_losses, key_layer_call_fn, key_layer_call_and_return_conditional_losses, value_layer_call_fn while saving (showing 5 of 240). These functions will not be directly callable after loading.\n"
     ]
    },
    {
     "output_type": "stream",
     "name": "stdout",
     "text": [
      "INFO:tensorflow:Assets written to: ./binary_class_model_100\\assets\n"
     ]
    },
    {
     "output_type": "stream",
     "name": "stderr",
     "text": [
      "INFO:tensorflow:Assets written to: ./binary_class_model_100\\assets\n"
     ]
    }
   ],
   "metadata": {}
  },
  {
   "cell_type": "code",
   "execution_count": 17,
   "source": [
    "model = load_model(f'models/binary_class_model_{batch}.h5', compile = True)"
   ],
   "outputs": [],
   "metadata": {}
  },
  {
   "cell_type": "code",
   "execution_count": 18,
   "source": [
    "use_samples = [\r\n",
    "[0.0,0.0,0.0,0.0],\r\n",
    "[2.4,0.0,0.0,0.0],\r\n",
    "[0.0,0.1,0.0,0.0],\r\n",
    "[0.0,0.0,0.0,0.0],\r\n",
    "[0.0,0.0,0.0,0.0],\r\n",
    "[0.1,0.0,0.0,0.0],\r\n",
    "[0.0,0.0,0.0,0.0],\r\n",
    "[0.0,0.0,0.0,0.0],\r\n",
    "[0.0,0.0,0.0,0.0],\r\n",
    "[0.0,0.0,0.0,0.0],\r\n",
    "[0.0,0.0,0.0,0.0],\r\n",
    "[0.0,0.0,0.0,0.0],\r\n",
    "[0.0,0.0,0.0,0.0],\r\n",
    "[0.0,0.0,0.0,0.0],\r\n",
    "[0.0,0.0,0.0,0.0],\r\n",
    "[0.0,0.0,0.0,0.0],\r\n",
    "[1.2,0.0,0.1,0.0],\r\n",
    "[2.9,29.9,2.3,0.1],\r\n",
    "[3.1,37.6,2.1,1.1],\r\n",
    "[1.4,2.2,0.2,0.2],\r\n",
    "[0.0,0.1,0.0,0.0],\r\n",
    "[0.0,0.0,0.0,0.0],\r\n",
    "[0.2,0.0,0.0,0.0],\r\n",
    "[0.0,0.0,0.1,0.0]\r\n",
    "    ]\r\n",
    "\r\n",
    "# Convert into Numpy array\r\n",
    "samples_to_predict = np.array(use_samples)\r\n",
    "print(samples_to_predict.shape)\r\n",
    "\r\n",
    "# Generate predictions for samples\r\n",
    "predictions = model.predict(samples_to_predict)\r\n",
    "predictions_list = [predictions.flat[i] for i in range(1,len(predictions.flat),2)]\r\n",
    "predictions_list"
   ],
   "outputs": [
    {
     "output_type": "stream",
     "name": "stdout",
     "text": [
      "(24, 4)\n"
     ]
    },
    {
     "output_type": "execute_result",
     "data": {
      "text/plain": [
       "[0.0006039598,\n",
       " 0.0010924741,\n",
       " 0.000599158,\n",
       " 0.0006039598,\n",
       " 0.0006039598,\n",
       " 0.0005965056,\n",
       " 0.0006039598,\n",
       " 0.0006039598,\n",
       " 0.0006039598,\n",
       " 0.0006039598,\n",
       " 0.0006039598,\n",
       " 0.0006039598,\n",
       " 0.0006039598,\n",
       " 0.0006039598,\n",
       " 0.0006039598,\n",
       " 0.0006039598,\n",
       " 0.00067819597,\n",
       " 0.9999995,\n",
       " 1.0,\n",
       " 0.0019529633,\n",
       " 0.000599158,\n",
       " 0.0006039598,\n",
       " 0.0005924431,\n",
       " 0.00060602743]"
      ]
     },
     "metadata": {},
     "execution_count": 18
    }
   ],
   "metadata": {}
  },
  {
   "cell_type": "code",
   "execution_count": 19,
   "source": [
    "label_samples=[\r\n",
    "'2019-06-30 00:00:00',\r\n",
    "'2019-06-30 01:00:00',\r\n",
    "'2019-06-30 02:00:00',\r\n",
    "'2019-06-30 03:00:00',\r\n",
    "'2019-06-30 04:00:00',\r\n",
    "'2019-06-30 05:00:00',\r\n",
    "'2019-06-30 06:00:00',\r\n",
    "'2019-06-30 07:00:00',\r\n",
    "'2019-06-30 08:00:00',\r\n",
    "'2019-06-30 09:00:00',\r\n",
    "'2019-06-30 10:00:00',\r\n",
    "'2019-06-30 11:00:00',\r\n",
    "'2019-06-30 12:00:00',\r\n",
    "'2019-06-30 13:00:00',\r\n",
    "'2019-06-30 14:00:00',\r\n",
    "'2019-06-30 15:00:00',\r\n",
    "'2019-06-30 16:00:00',\r\n",
    "'2019-06-30 17:00:00',\r\n",
    "'2019-06-30 18:00:00',\r\n",
    "'2019-06-30 19:00:00',\r\n",
    "'2019-06-30 20:00:00',\r\n",
    "'2019-06-30 21:00:00',\r\n",
    "'2019-06-30 22:00:00',\r\n",
    "'2019-06-30 23:00:00']"
   ],
   "outputs": [],
   "metadata": {}
  },
  {
   "cell_type": "code",
   "execution_count": 20,
   "source": [
    "df=pd.DataFrame(list(zip(label_samples,predictions_list)),columns=['Fecha','Probabilidad'])\r\n",
    "df[\"Fecha\"]= pd.to_datetime(df[\"Fecha\"])\r\n",
    "df = df.set_index('Fecha')\r\n",
    "df.plot(style=\"-o\")\r\n",
    "plt.title('Probabilidad de inundación')\r\n",
    "plt.tick_params(axis='x', rotation=10)\r\n",
    "plt.xlabel('Fecha')\r\n",
    "plt.ylabel('Probabilidad')\r\n",
    "plt.ylim([0,1.15])\r\n",
    "plt.show()"
   ],
   "outputs": [
    {
     "output_type": "display_data",
     "data": {
      "image/png": "[encoded data removed]",
      "text/plain": [
       "<Figure size 640x480 with 1 Axes>"
      ]
     },
     "metadata": {}
    }
   ],
   "metadata": {}
  }
 ],
 "metadata": {
  "colab": {
   "collapsed_sections": [],
   "name": "timeseries_transformer_classification",
   "private_outputs": false,
   "provenance": [],
   "toc_visible": true
  },
  "kernelspec": {
   "name": "python3",
   "display_name": "Python 3.7.10 64-bit ('myenv': conda)"
  },
  "language_info": {
   "codemirror_mode": {
    "name": "ipython",
    "version": 3
   },
   "file_extension": ".py",
   "mimetype": "text/x-python",
   "name": "python",
   "nbconvert_exporter": "python",
   "pygments_lexer": "ipython3",
   "version": "3.7.10"
  },
  "interpreter": {
   "hash": "b63d300cba3828e40bd9ca1ac7ac71b9952cf6531127d05589312d587e5b3945"
  }
 },
 "nbformat": 4,
 "nbformat_minor": 2
}